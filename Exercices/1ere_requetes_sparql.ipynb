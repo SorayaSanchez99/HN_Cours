{
 "cells": [
  {
   "cell_type": "code",
   "execution_count": 9,
   "id": "conventional-motorcycle",
   "metadata": {},
   "outputs": [],
   "source": [
    "from SPARQLWrapper import SPARQLWrapper, SPARQLWrapper2, JSON, TURTLE, XML, RDFXML\n",
    "import pandas as pd\n",
    "import matplotlib.pyplot as plt"
   ]
  },
  {
   "cell_type": "code",
   "execution_count": 10,
   "id": "approved-reality",
   "metadata": {},
   "outputs": [],
   "source": [
    "import pprint\n",
    "import csv\n",
    "import ast\n",
    "\n",
    "from collections import Counter\n",
    "from operator import itemgetter\n",
    "\n",
    "import sqlite3 as sql\n",
    "import time\n",
    "\n",
    "from importlib import reload\n",
    "from shutil import copyfile"
   ]
  },
  {
   "cell_type": "markdown",
   "id": "exempt-component",
   "metadata": {},
   "source": [
    "## Wikipedia: Les empereurs romains, page \"Roman emperor\"\n",
    "\n",
    "*  https://en.wikipedia.org/wiki/Roman_emperor\n",
    "*  https://en.wikipedia.org/wiki/List_of_Roman_emperors\n",
    "\n",
    "## DBPedia : Roman emperor\n",
    "\n",
    "* https://dbpedia.org/page/Roman_emperor (an instance of the class [Political System] (https://dbpedia.org/ontology/PoliticalSystem) )\n",
    "\n",
    "* https://dbpedia.org/page/List_of_Roman_emperors "
   ]
  },
  {
   "cell_type": "markdown",
   "id": "bored-honey",
   "metadata": {},
   "source": [
    "### DBPedia SPARQL Endpoint\n",
    "\n",
    "*  https://dbpedia.org/sparql\n",
    "*  https://live.dbpedia.org/sparql (mis à jour en permanence, à utiliser pour les requêtes fédérées, i.e. la clause SERVICE)\n",
    "\n",
    "Documentation : [SPARQL 1.1 Query Language](http://www.w3.org/TR/sparql11-query/)"
   ]
  },
  {
   "cell_type": "markdown",
   "id": "little-greek",
   "metadata": {},
   "source": [
    "### Auguste dans DBPedia\n",
    "\n",
    "*  https://en.wikipedia.org/wiki/Augustus\n",
    "*  https://dbpedia.org/page/Augustus"
   ]
  },
  {
   "cell_type": "markdown",
   "id": "arabic-junior",
   "metadata": {},
   "source": [
    "### Extrait de l'infobox de la page Wikipedia d'Auguste\n",
    "\n",
    "*  https://en.wikipedia.org/wiki/Augustus\n",
    "\n",
    "{{Infobox royalty\n",
    "| name         = Augustus\n",
    "| title        = [[Princeps]] Civitatis\n",
    "| image        = Statue-Augustus.jpg\n",
    "| image_size   = 250px\n",
    "| alt          = Statue of Augustus\n",
    "| caption      = [[Augustus of Prima Porta]], 1st century\n",
    "| succession   = [[Roman emperor]]\n",
    "| reign        = 16 January 27 BC – {{no wrap|19 August AD 14}}<br />(40 years and 7 months)\n",
    "| successor    = [[Tiberius]]\n",
    "| birth_name   = Gaius [[Octavii|Octavius]]\n",
    "| birth_date   = 23 September 63 BC\n",
    "| birth_place  = [[Rome]], [[Roman Italy|Italy]], [[Roman Republic]]\n",
    "| death_date   = 19 August AD 14 (aged 75)\n",
    "| death_place  = [[Nola]], Italy, [[Roman Empire]]\n",
    "| burial_place = [[Mausoleum of Augustus]], [[Rome]]\n",
    "| spouse       = {{plainlist|\n",
    "* [[Claudia (wife of Octavian)|Claudia]] (42–40 BC; divorce)\n",
    "* [[Scribonia (wife of Octavian)|Scribonia]] (40–38 BC; divorce)\n",
    "* [[Livia]] (37 BC–AD 14; his death)}}\n",
    "| issue        = {{ubl|[[Julia the Elder]]|[[Gaius Caesar]] (adopted)|[[Lucius Caesar]] (adopted)|[[Agrippa Postumus]] (adopted)|[[Tiberius]] (adopted)}}\n",
    "| regnal name  = Imperator Caesar [[divi filius]] Augustus\n",
    "| dynasty      = [[Julio-Claudian dynasty|Julio-Claudian]]\n",
    "| father       = {{ubl|[[Gaius Octavius (father of Augustus)|Gaius Octavius]]|[[Julius Caesar]] (adoptive)}}\n",
    "| mother       = [[Atia Balba Caesonia]]\n",
    "| signature    = \n",
    "}}\n"
   ]
  },
  {
   "cell_type": "markdown",
   "id": "pleasant-buyer",
   "metadata": {},
   "source": [
    "## Premières requêtes SPARQL"
   ]
  },
  {
   "cell_type": "code",
   "execution_count": 18,
   "id": "lucky-pricing",
   "metadata": {},
   "outputs": [],
   "source": [
    "###  Définir la variable contenant la requête SPARQL\n",
    "# Requête : toutes les propriétés concernant Auguste\n",
    "\n",
    "q_1 = \"\"\"\n",
    "\n",
    "PREFIX dbpedia: <http://dbpedia.org/resource/>\n",
    "SELECT ?p ?o WHERE {\n",
    "dbpedia:Augustus ?p ?o\n",
    "}\n",
    "\n",
    "\"\"\""
   ]
  },
  {
   "cell_type": "code",
   "execution_count": 19,
   "id": "infrared-ocean",
   "metadata": {},
   "outputs": [],
   "source": [
    "###  Requête: toutes les propriétés ayant un texte en anglais en objet\n",
    "\n",
    "\n",
    "q_2 = \"\"\"\n",
    "\n",
    "PREFIX dbpedia: <http://dbpedia.org/resource/>\n",
    "SELECT ?p ?o WHERE {\n",
    "dbpedia:Augustus ?p ?o.\n",
    "FILTER ( lang(?o) = \"en\" ) \n",
    "}\n",
    "\n",
    "\"\"\""
   ]
  },
  {
   "cell_type": "code",
   "execution_count": 5,
   "id": "premium-operator",
   "metadata": {},
   "outputs": [],
   "source": [
    "###  Requête: compter et regrouper les propriétés\n",
    "\n",
    "q_3 = \"\"\"\n",
    "\n",
    "PREFIX dbpedia: <http://dbpedia.org/resource/>\n",
    "SELECT ?p (COUNT(*) as ?eff) WHERE {\n",
    "dbpedia:Augustus ?p ?o.\n",
    "}\n",
    "GROUP BY ?p\n",
    "ORDER BY DESC(?eff)\n",
    "\n",
    "\"\"\""
   ]
  },
  {
   "cell_type": "code",
   "execution_count": 6,
   "id": "extra-regard",
   "metadata": {},
   "outputs": [],
   "source": [
    "### Requête: inspecter le contenu des différentes propriétés, en les analysant une par une\n",
    "\n",
    "# Astuce: ouvrir une nouvelle fenêtre du point d'accès SPARQL DBPedia\n",
    "# A partir du résultat de la requête précédente, copier coller les proriétés et exécuter\n",
    "\n",
    "q_4 = \"\"\"\n",
    "\n",
    "PREFIX dbpedia: <http://dbpedia.org/resource/>\n",
    "SELECT ?o WHERE {\n",
    "dbpedia:Augustus <http://dbpedia.org/property/birthPlace> ?o.\n",
    "}\n",
    "\n",
    "\"\"\""
   ]
  },
  {
   "cell_type": "markdown",
   "id": "precise-zealand",
   "metadata": {},
   "source": [
    "### Stocker les requêtes dans une base de données SQLite\n",
    "\n",
    "\n",
    "*  Afin de ne pas surcharger le carnet, les requêtes SPARQL et les résultats sont stockées dans une base de données SQLite.\n",
    "*  Elle se trouve dans le dossier /Users/sorayasanchez/Documents/jupyter_notebooks/HN_Cours/Exercices/sparql_queries.db.\n",
    "*  On peut l'ouvrir et l'éditer avec le logiciel SQLiteStudio, cf. les indications de [cette page](http://phn-wiki.ish-lyon.cnrs.fr/doku.php?id=intro_histoire_numerique:modelisation_bases_donnees)\n",
    "\n",
    "#### Manière de procéder\n",
    "\n",
    "* Préparer la requête directement dans l'éditeur du point d'accès SPARQ original, dans ce cas: https://dbpedia.org/sparql\n",
    "* Si nécessaire, valider et formater les requêtes dans ces plateformes:\n",
    "  *  https://linked.bodc.ac.uk/validate/query\n",
    "  *  http://sparql.org/query-validator.html\n",
    "* Copier ensuite la requête dans une nouvelle ligne de la base de données, table _query_\n",
    "* Ajouter un titre, un descriptif, l'adresse du point d'accès SPARQL dans la nouvelle ligne de la base de données\n",
    "* Choisir la ligne à exécuter et retenir les numéro de sa clé primaire (_pk_query_)\n"
   ]
  },
  {
   "cell_type": "code",
   "execution_count": 20,
   "id": "specified-exception",
   "metadata": {},
   "outputs": [
    {
     "ename": "OperationalError",
     "evalue": "no such table: query",
     "output_type": "error",
     "traceback": [
      "\u001b[0;31m---------------------------------------------------------------------------\u001b[0m",
      "\u001b[0;31mOperationalError\u001b[0m                          Traceback (most recent call last)",
      "\u001b[0;32m<ipython-input-20-bbe79905d2b4>\u001b[0m in \u001b[0;36m<module>\u001b[0;34m\u001b[0m\n\u001b[1;32m      8\u001b[0m \u001b[0;31m### exécuter la requëte sur la base de donées SQLite pour récupérer les valeurs que contient la ligne\u001b[0m\u001b[0;34m\u001b[0m\u001b[0;34m\u001b[0m\u001b[0;34m\u001b[0m\u001b[0m\n\u001b[1;32m      9\u001b[0m \u001b[0mc\u001b[0m \u001b[0;34m=\u001b[0m \u001b[0mconn\u001b[0m\u001b[0;34m.\u001b[0m\u001b[0mcursor\u001b[0m\u001b[0;34m(\u001b[0m\u001b[0;34m)\u001b[0m\u001b[0;34m\u001b[0m\u001b[0;34m\u001b[0m\u001b[0m\n\u001b[0;32m---> 10\u001b[0;31m \u001b[0mc\u001b[0m\u001b[0;34m.\u001b[0m\u001b[0mexecute\u001b[0m\u001b[0;34m(\u001b[0m\u001b[0;34m'SELECT pk_query, label, description, sparql_endpoint FROM query'\u001b[0m\u001b[0;34m)\u001b[0m\u001b[0;34m\u001b[0m\u001b[0;34m\u001b[0m\u001b[0m\n\u001b[0m\u001b[1;32m     11\u001b[0m \u001b[0mr_all\u001b[0m \u001b[0;34m=\u001b[0m \u001b[0mc\u001b[0m\u001b[0;34m.\u001b[0m\u001b[0mfetchall\u001b[0m\u001b[0;34m(\u001b[0m\u001b[0;34m)\u001b[0m\u001b[0;34m\u001b[0m\u001b[0;34m\u001b[0m\u001b[0m\n\u001b[1;32m     12\u001b[0m \u001b[0;34m\u001b[0m\u001b[0m\n",
      "\u001b[0;31mOperationalError\u001b[0m: no such table: query"
     ]
    }
   ],
   "source": [
    "### Inspecter les requêtes existantes\n",
    "\n",
    "# connnexion à la base de données\n",
    "original_db = '/Users/sorayasanchez/Documents/jupyter_notebooks/HN_Cours/Exercices/sparql_queries.db'\n",
    "\n",
    "conn = sql.connect(original_db)\n",
    "\n",
    "### exécuter la requëte sur la base de donées SQLite pour récupérer les valeurs que contient la ligne\n",
    "c = conn.cursor()\n",
    "c.execute('SELECT pk_query, label, description, sparql_endpoint FROM query')\n",
    "r_all = c.fetchall()\n",
    "\n",
    "# fermer la connexion\n",
    "conn.close()\n",
    "r_all\n"
   ]
  },
  {
   "cell_type": "code",
   "execution_count": 15,
   "id": "bigger-violence",
   "metadata": {},
   "outputs": [
    {
     "name": "stdout",
     "output_type": "stream",
     "text": [
      "(4,\n",
      " 'Inspecter propriété Birth Place',\n",
      " 'Inspecter la propriété Birth Place',\n",
      " None,\n",
      " 'https://dbpedia.org/sparql?default-graph-uri=http%3A%2F%2Fdbpedia.org&query=PREFIX++dbpedia%3A+%3Chttp%3A%2F%2Fdbpedia.org%2Fresource%2F%3E%0D%0A%0D%0ASELECT++%3Fo%0D%0AWHERE%0D%0A++%7B+dbpedia%3AAugustus%0D%0A++++++++++++++%3Chttp%3A%2F%2Fdbpedia.org%2Fproperty%2FbirthPlace%3E++%3Fo%0D%0A++%7D&format=text%2Fhtml&timeout=30000&signal_void=on&signal_unconnected=on',\n",
      " 'PREFIX  dbpedia: <http://dbpedia.org/resource/>\\n'\n",
      " '\\n'\n",
      " 'SELECT  ?o\\n'\n",
      " 'WHERE\\n'\n",
      " '  { dbpedia:Augustus\\n'\n",
      " '              <http://dbpedia.org/property/birthPlace>  ?o\\n'\n",
      " '  }',\n",
      " None,\n",
      " None)\n"
     ]
    }
   ],
   "source": [
    "### Définir la ligne de la base de données à utiliser (inspécter préalablement la base de données)\n",
    "pk_query = ('4')\n",
    "\n",
    "# connnexion à la base de données\n",
    "original_db = '/Users/sorayasanchez/Documents/jupyter_notebooks/HN_Cours/Exercices/sparql_queries.db'\n",
    "\n",
    "conn = sql.connect(original_db)\n",
    "\n",
    "### exécuter la requëte sur la base de donées SQLite pour récupérer les valeurs que contient la ligne\n",
    "c = conn.cursor()\n",
    "c.execute('SELECT * FROM query WHERE pk_query = ?', pk_query)\n",
    "rc = c.fetchone()\n",
    "\n",
    "# fermer la connexion\n",
    "conn.close()\n",
    "\n",
    "# imprimer et inspecter le résultat\n",
    "pprint.pprint(rc)"
   ]
  },
  {
   "cell_type": "code",
   "execution_count": 17,
   "id": "royal-rapid",
   "metadata": {},
   "outputs": [
    {
     "name": "stdout",
     "output_type": "stream",
     "text": [
      "https://dbpedia.org/sparql?default-graph-uri=http%3A%2F%2Fdbpedia.org&query=PREFIX++dbpedia%3A+%3Chttp%3A%2F%2Fdbpedia.org%2Fresource%2F%3E%0D%0A%0D%0ASELECT++%3Fo%0D%0AWHERE%0D%0A++%7B+dbpedia%3AAugustus%0D%0A++++++++++++++%3Chttp%3A%2F%2Fdbpedia.org%2Fproperty%2FbirthPlace%3E++%3Fo%0D%0A++%7D&format=text%2Fhtml&timeout=30000&signal_void=on&signal_unconnected=on \n",
      "---\n",
      " PREFIX  dbpedia: <http://dbpedia.org/resource/>\n",
      "\n",
      "SELECT  ?o\n",
      "WHERE\n",
      "  { dbpedia:Augustus\n",
      "              <http://dbpedia.org/property/birthPlace>  ?o\n",
      "  }\n"
     ]
    }
   ],
   "source": [
    "print(rc[4],'\\n---\\n',rc[5])"
   ]
  },
  {
   "cell_type": "code",
   "execution_count": null,
   "id": "communist-fiction",
   "metadata": {},
   "outputs": [],
   "source": []
  }
 ],
 "metadata": {
  "kernelspec": {
   "display_name": "Py 3.7 hn sparql",
   "language": "python",
   "name": "py37_hn_sparql"
  },
  "language_info": {
   "codemirror_mode": {
    "name": "ipython",
    "version": 3
   },
   "file_extension": ".py",
   "mimetype": "text/x-python",
   "name": "python",
   "nbconvert_exporter": "python",
   "pygments_lexer": "ipython3",
   "version": "3.7.10"
  }
 },
 "nbformat": 4,
 "nbformat_minor": 5
}
