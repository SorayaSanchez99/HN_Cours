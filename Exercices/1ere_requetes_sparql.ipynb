{
 "cells": [
  {
   "cell_type": "markdown",
   "id": "sixth-brunswick",
   "metadata": {},
   "source": [
    "### Premières requêtes sparql"
   ]
  },
  {
   "cell_type": "code",
   "execution_count": 5,
   "id": "miniature-monaco",
   "metadata": {},
   "outputs": [],
   "source": [
    "###  Définir la variable contenant la requête SPARQL\n",
    "# Requête : toutes les propriétés concernant Thermae\n",
    "\n",
    "q_1 = \"\"\"\n",
    "\n",
    "PREFIX dbpedia: <http://dbpedia.org/resource/>\n",
    "SELECT ?p ?o WHERE {\n",
    "dbpedia:Thermae ?p ?o\n",
    "}\n",
    "\n",
    "\"\"\""
   ]
  },
  {
   "cell_type": "code",
   "execution_count": 6,
   "id": "collected-march",
   "metadata": {},
   "outputs": [],
   "source": [
    "###  Requête: toutes les propriétés ayant un texte en anglais en objet\n",
    "\n",
    "\n",
    "q_2 = \"\"\"\n",
    "\n",
    "PREFIX dbpedia: <http://dbpedia.org/resource/>\n",
    "SELECT ?p ?o WHERE {\n",
    "dbpedia:Thermae ?p ?o.\n",
    "FILTER ( lang(?o) = \"en\" ) \n",
    "}\n",
    "\n",
    "\"\"\""
   ]
  },
  {
   "cell_type": "code",
   "execution_count": 7,
   "id": "oriental-transportation",
   "metadata": {},
   "outputs": [],
   "source": [
    "###  Requête: compter et regrouper les propriétés\n",
    "\n",
    "q_3 = \"\"\"\n",
    "\n",
    "PREFIX dbpedia: <http://dbpedia.org/resource/>\n",
    "SELECT ?p (COUNT(*) as ?eff) WHERE {\n",
    "dbpedia:Thermae ?p ?o.\n",
    "}\n",
    "GROUP BY ?p\n",
    "ORDER BY DESC(?eff)\n",
    "\n",
    "\"\"\""
   ]
  },
  {
   "cell_type": "code",
   "execution_count": 1,
   "id": "russian-tender",
   "metadata": {},
   "outputs": [],
   "source": [
    "### Requête: inspecter le contenu des différentes propriétés, en les analysant une par une\n",
    "\n",
    "# Astuce: ouvrir une nouvelle fenêtre du point d'accès SPARQL DBPedia\n",
    "# A partir du résultat de la requête précédente, copier coller les proriétés et exécuter\n",
    "\n",
    "q_4 = \"\"\"\n",
    "\n",
    "PREFIX dbpedia: <http://dbpedia.org/resource/>\n",
    "SELECT ?o WHERE {\n",
    "dbpedia:Thermae <http://dbpedia.org/ontology/abstract> ?o.\n",
    "}\n",
    "\n",
    "\"\"\""
   ]
  }
 ],
 "metadata": {
  "kernelspec": {
   "display_name": "Py 3.7 hn sparql",
   "language": "python",
   "name": "py37_hn_sparql"
  },
  "language_info": {
   "codemirror_mode": {
    "name": "ipython",
    "version": 3
   },
   "file_extension": ".py",
   "mimetype": "text/x-python",
   "name": "python",
   "nbconvert_exporter": "python",
   "pygments_lexer": "ipython3",
   "version": "3.7.10"
  }
 },
 "nbformat": 4,
 "nbformat_minor": 5
}
